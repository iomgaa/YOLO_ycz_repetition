{
 "cells": [
  {
   "cell_type": "code",
   "execution_count": 2,
   "metadata": {},
   "outputs": [],
   "source": [
    "from __future__ import division\n",
    "#支持精确算法\n",
    "\n",
    "import torch\n",
    "import torch.nn as nn\n",
    "import torch.nn.functional as F\n",
    "from torch.autograd import Variable\n",
    "#导入pytorch\n",
    "\n",
    "import numpy as np\n",
    "#from util import * 似乎被取消了，线不管，用到再说"
   ]
  },
  {
   "cell_type": "code",
   "execution_count": 4,
   "metadata": {},
   "outputs": [],
   "source": [
    "#获得测试的输入\n",
    "def get_test_input():\n",
    "    img=cv2.imread(\"dog-cycle-car.png\")\n",
    "    img=cv2.resize(img,(416,416))#调整输入大小\n",
    "    img_=img[:,:,::-1].transpose((2,0,1))\n",
    "    #img是【h，w，channel】，这里的img[:,:,::-1]是将第三维度channel从opencv的BGR转化为pytorch的RGB，然后transpose（（2，0，1））的意思是将[height,width,channel]->[channel,height,width]\n",
    "    img_=img_[np.newaxis,:,:,:]/255.0\n",
    "    #添加一个0维，并进行归一化处理(Add a channel at 0 (for batch) | Normalise)\n",
    "    img_=torch.from_numpy(img_).float()#转换为float型\n",
    "    img_=Variable(img_)#转换成变量\n",
    "    return img_"
   ]
  },
  {
   "cell_type": "code",
   "execution_count": 5,
   "metadata": {},
   "outputs": [],
   "source": [
    "def parse_cfg(cfgfile):\n",
    "    \"\"\"\n",
    "    输入：配置文件路径\n",
    "    返回值：列表对象，其中每一个元素为一个字典类型对应于一个要建立的神经网络模块（层）\n",
    "    \"\"\"\n",
    "    # 加载文件并过滤掉文件的多余内容\n",
    "    file=open(cfgfile,'r')\n",
    "    lines=file.read().spilt('\\n')#store the lines in a list等价于readlines\n",
    "    lines=[x for x in lines if len(x)>0] #去掉空行\n",
    "    lines=[x for x in lines if x[0]!='#'] #去掉以#开头的注释行\n",
    "    lines = [x.rstrip().lstrip() for x in lines]# 去掉左右两边的空格(rstricp是去掉右边的空格，lstrip是去掉左边的空格)\n",
    "    #cfg文件中的每个块用[]括起来最后组成一个列表，一个block储存一个块的内容，即每个层用一个字典block储存。\n",
    "    block={}\n",
    "    blocks=[]\n",
    "    \n",
    "    for line in lines:\n",
    "        if line[0]==\"[\": #这是cfg文件中一个层（块）的开始\n",
    "            if len(block) !=0: #如果块内已经存在信息，说明是上一个块的信息还没有保存\n",
    "                blocks.append(block)#那么这个块（字典）加入到blocks列表中去\n",
    "                block={}#覆盖掉已储存的block，新建一个空白的块储存描述下一个块的信息（block是字典）\n",
    "            block[\"type\"]=line[1:-1].rstrip()#把cfg的[]中的块名作为键type的值\n",
    "        else:\n",
    "            key,value=line.split(\"=\")#按等号分割\n",
    "            block[key.rstrip()]=value.lstrip()#左边是key(去掉右空格)，右边是value(去掉左空格)，形成一个block字典的键值对\n",
    "    blocks.append(block)#退出循环，将最后一个未加入的block加进去\n",
    "    # print('\\n\\n'.join([repr(x) for x in blocks]))\n",
    "    return blocks\n",
    "                \n",
    "# 配置文件定义了6种不同type\n",
    "# 'net': 相当于超参数,网络全局配置的相关参数\n",
    "# {'convolutional', 'net', 'route', 'shortcut', 'upsample', 'yolo'}\n",
    "\n",
    "# cfg = parse_cfg(\"cfg/yolov3.cfg\")\n",
    "# print(cfg)            \n",
    "                "
   ]
  },
  {
   "cell_type": "code",
   "execution_count": 8,
   "metadata": {},
   "outputs": [],
   "source": [
    "class EmptyLayer(nn.Module):\n",
    "    \"\"\"\n",
    "    为shortcut layer / route layer准备，具体功能不在此实现，在Darknet类的forward函数中有体现\n",
    "    \"\"\"\n",
    "    def __init__(self):\n",
    "        super(EmptyLayer,self).__init__()"
   ]
  },
  {
   "cell_type": "code",
   "execution_count": 11,
   "metadata": {},
   "outputs": [],
   "source": [
    "class DetectionLayer(nn.Module):\n",
    "    \"\"\"\n",
    "    yolo 检测层的具体实现, 在特征图上使用锚点预测目标区域和类别, 功能函数在predict_transform中\n",
    "    \"\"\"\n",
    "    def __init__(self,anchors):\n",
    "        super(DetectionLayer,self).__init__()\n",
    "        self.anchors=anchors"
   ]
  },
  {
   "cell_type": "code",
   "execution_count": null,
   "metadata": {},
   "outputs": [],
   "source": []
  }
 ],
 "metadata": {
  "kernelspec": {
   "display_name": "Python 3",
   "language": "python",
   "name": "python3"
  },
  "language_info": {
   "codemirror_mode": {
    "name": "ipython",
    "version": 3
   },
   "file_extension": ".py",
   "mimetype": "text/x-python",
   "name": "python",
   "nbconvert_exporter": "python",
   "pygments_lexer": "ipython3",
   "version": "3.6.6"
  }
 },
 "nbformat": 4,
 "nbformat_minor": 2
}
